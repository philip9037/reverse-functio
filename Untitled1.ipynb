{
  "nbformat": 4,
  "nbformat_minor": 0,
  "metadata": {
    "colab": {
      "provenance": [],
      "authorship_tag": "ABX9TyMMZDJuZKnRWib4pJBSnuRi",
      "include_colab_link": true
    },
    "kernelspec": {
      "name": "python3",
      "display_name": "Python 3"
    },
    "language_info": {
      "name": "python"
    }
  },
  "cells": [
    {
      "cell_type": "markdown",
      "metadata": {
        "id": "view-in-github",
        "colab_type": "text"
      },
      "source": [
        "<a href=\"https://colab.research.google.com/github/philip9037/reverse-functio/blob/main/Untitled1.ipynb\" target=\"_parent\"><img src=\"https://colab.research.google.com/assets/colab-badge.svg\" alt=\"Open In Colab\"/></a>"
      ]
    },
    {
      "cell_type": "code",
      "execution_count": null,
      "metadata": {
        "id": "UjTvRjvlnUbD"
      },
      "outputs": [],
      "source": [
        "def reverse_word(word):\n",
        "    return word[::-1]\n",
        "\n",
        "word = input(\"Enter a word: \")\n",
        "reversed_word = reverse_word(word)\n",
        "print(\"The reversed word is:\", reversed_word)"
      ]
    }
  ]
}